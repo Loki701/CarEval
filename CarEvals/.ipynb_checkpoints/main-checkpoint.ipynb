{
 "cells": [
  {
   "cell_type": "markdown",
   "id": "6034c491",
   "metadata": {},
   "source": [
    "# Data overview and sampling"
   ]
  },
  {
   "cell_type": "code",
   "execution_count": 1,
   "id": "2e3dad28",
   "metadata": {},
   "outputs": [],
   "source": [
    "import pandas as pd\n",
    "\n",
    "# Read data from CSV file\n",
    "df = pd.read_csv('data/vehicles.csv')\n",
    "\n",
    "# Get a sample of 10%\n",
    "sample = df.sample(frac=0.1)"
   ]
  },
  {
   "cell_type": "code",
   "execution_count": 2,
   "id": "46c8ce50",
   "metadata": {},
   "outputs": [],
   "source": [
    "# # We only need to keep relevant columns, excluding data like urls, id, etc.\n",
    "\n",
    "relevant_cols = ['price', 'year', 'manufacturer', 'model', 'condition', 'cylinders', \n",
    "                 'fuel', 'odometer', 'transmission', 'drive', 'type', 'paint_color']\n",
    "sample = sample[relevant_cols]\n",
    "df = df[relevant_cols]\n",
    "\n",
    "# # Drop rows with missing data in relevant columns\n",
    "# sample.dropna(subset=['price', 'year', 'manufacturer', 'model', 'condition', 'cylinders', \n",
    "#                     'fuel', 'odometer', 'transmission', 'drive', 'type', 'paint_color'], \n",
    "#             inplace=True)\n",
    "\n",
    "# Replace NaN values in specified columns with 'missing'\n",
    "sample = sample.fillna('missing')\n",
    "df = df.fillna('missing')"
   ]
  },
  {
   "cell_type": "code",
   "execution_count": 3,
   "id": "2ba521f8",
   "metadata": {},
   "outputs": [],
   "source": [
    "# Write the resulting dataframe to a new CSV file\n",
    "# sample.to_csv('m_sample_vehicles.csv', index=False)\n",
    "df.to_csv('relcols_full_vehicles.csv', index=False)"
   ]
  },
  {
   "cell_type": "markdown",
   "id": "3cfcf689",
   "metadata": {},
   "source": [
    "# Exploratory Data Analysis"
   ]
  },
  {
   "cell_type": "code",
   "execution_count": 5,
   "id": "dcc843f8",
   "metadata": {},
   "outputs": [],
   "source": [
    "# Load the data\n",
    "df = pd.read_csv('relcols_full_vehicles.csv')"
   ]
  },
  {
   "cell_type": "markdown",
   "id": "aed0477a",
   "metadata": {},
   "source": [
    "## price"
   ]
  },
  {
   "cell_type": "code",
   "execution_count": 6,
   "id": "b648fbdc",
   "metadata": {},
   "outputs": [
    {
     "data": {
      "text/plain": [
       "count    4.268800e+05\n",
       "mean     7.519903e+04\n",
       "std      1.218228e+07\n",
       "min      0.000000e+00\n",
       "25%      5.900000e+03\n",
       "50%      1.395000e+04\n",
       "75%      2.648575e+04\n",
       "max      3.736929e+09\n",
       "Name: price, dtype: float64"
      ]
     },
     "execution_count": 6,
     "metadata": {},
     "output_type": "execute_result"
    }
   ],
   "source": [
    "df.price.describe()"
   ]
  },
  {
   "cell_type": "markdown",
   "id": "f04ebd30",
   "metadata": {},
   "source": [
    "### Observing outliers"
   ]
  },
  {
   "cell_type": "code",
   "execution_count": 7,
   "id": "f78d517c",
   "metadata": {},
   "outputs": [
    {
     "name": "stdout",
     "output_type": "stream",
     "text": [
      "318592    3736928711\n",
      "356716    3736928711\n",
      "257840    3024942282\n",
      "91576     3024942282\n",
      "37410     3009548743\n",
      "184704    1410065407\n",
      "153082    1234567890\n",
      "29386     1111111111\n",
      "37409     1111111111\n",
      "122470     987654321\n",
      "Name: price, dtype: int64\n"
     ]
    }
   ],
   "source": [
    "top_prices = df['price'].sort_values(ascending=False).head(10)\n",
    "print(top_prices)"
   ]
  },
  {
   "cell_type": "markdown",
   "id": "bd79938e",
   "metadata": {},
   "source": [
    "### Limit price to the 99th percentile to exclude outliers"
   ]
  },
  {
   "cell_type": "code",
   "execution_count": null,
   "id": "0b224eaf",
   "metadata": {},
   "outputs": [],
   "source": [
    "# calculate the 99th percentile value of 'price' column\n",
    "price_99percentile = df['price'].quantile(0.99)\n",
    "\n",
    "# filter the dataframe to keep only the rows where price is less than or equal to price_99percentile\n",
    "df = df[df['price'] <= price_99percentile]\n"
   ]
  },
  {
   "cell_type": "code",
   "execution_count": null,
   "id": "8e738042",
   "metadata": {},
   "outputs": [],
   "source": [
    "import seaborn as sns\n",
    "import matplotlib.pyplot as plt\n",
    "\n",
    "sns.kdeplot(df['price'])\n",
    "plt.title('Density distribution of car prices')\n",
    "plt.xlabel('Price')\n",
    "plt.ylabel('Density')\n",
    "plt.show()\n"
   ]
  },
  {
   "cell_type": "code",
   "execution_count": null,
   "id": "dba5143e",
   "metadata": {},
   "outputs": [],
   "source": [
    "# Create a box plot with modified whiskers\n",
    "plt.boxplot(df['price'], whis=[0, 99], showfliers=False)\n",
    "\n",
    "plt.show()"
   ]
  },
  {
   "cell_type": "markdown",
   "id": "f8b3c81d",
   "metadata": {},
   "source": [
    "## year"
   ]
  },
  {
   "cell_type": "code",
   "execution_count": null,
   "id": "5a0ac27c",
   "metadata": {},
   "outputs": [],
   "source": [
    "['price', 'year', 'manufacturer', 'model', 'condition', 'cylinders', \n",
    "                 'fuel', 'odometer', 'transmission', 'drive', 'type', 'paint_color']"
   ]
  },
  {
   "cell_type": "code",
   "execution_count": null,
   "id": "edc32955",
   "metadata": {},
   "outputs": [],
   "source": [
    "df.year.describe()"
   ]
  },
  {
   "cell_type": "markdown",
   "id": "7da07828",
   "metadata": {},
   "source": [
    "## manufacturer"
   ]
  },
  {
   "cell_type": "code",
   "execution_count": null,
   "id": "96688b1b",
   "metadata": {},
   "outputs": [],
   "source": [
    "counts = df['manufacturer'].value_counts()\n",
    "plt.bar(counts.index, counts.values)\n",
    "plt.xticks(rotation=90)\n",
    "plt.show()"
   ]
  },
  {
   "cell_type": "markdown",
   "id": "820f6626",
   "metadata": {},
   "source": [
    "## model"
   ]
  },
  {
   "cell_type": "code",
   "execution_count": null,
   "id": "2acadda1",
   "metadata": {},
   "outputs": [],
   "source": [
    "plt.figure(figsize=(12,8))\n",
    "sns.countplot(x='model', data=df, order=df['model'].value_counts().iloc[:30].index)\n",
    "plt.title('Distribution of Car Models')\n",
    "plt.xlabel('Car Model')\n",
    "plt.ylabel('Count')\n",
    "plt.xticks(rotation=45, ha='right')\n",
    "plt.show()"
   ]
  },
  {
   "cell_type": "markdown",
   "id": "76108d66",
   "metadata": {},
   "source": [
    "## condition"
   ]
  },
  {
   "cell_type": "code",
   "execution_count": null,
   "id": "9d0b709d",
   "metadata": {},
   "outputs": [],
   "source": [
    "import seaborn as sns\n",
    "\n",
    "sns.countplot(x='condition', data=df)"
   ]
  },
  {
   "cell_type": "code",
   "execution_count": null,
   "id": "f016ba0a",
   "metadata": {},
   "outputs": [],
   "source": [
    "import seaborn as sns\n",
    "\n",
    "sns.countplot(x='cylinders', data=df)"
   ]
  },
  {
   "cell_type": "code",
   "execution_count": null,
   "id": "c7fd097b",
   "metadata": {},
   "outputs": [],
   "source": [
    "# Fuel\n",
    "df['fuel'].value_counts().plot(kind='bar')\n",
    "plt.title('Distribution of Fuel')\n",
    "plt.xlabel('Fuel Type')\n",
    "plt.ylabel('Count')\n",
    "plt.show()\n"
   ]
  },
  {
   "cell_type": "code",
   "execution_count": null,
   "id": "58cb15c5",
   "metadata": {},
   "outputs": [],
   "source": [
    "import seaborn as sns\n",
    "\n",
    "\n",
    "df['odometer'] = pd.to_numeric(df['odometer'], errors='coerce\n",
    "sns.set_style('whitegrid')\n",
    "sns.kdeplot(df[df['odometer'].notnull()]['odometer'], fill=True)\n",
    "plt.title('Odometer Distribution')\n",
    "plt.xlabel('Odometer')\n",
    "plt.ylabel('Density')\n",
    "plt.show()"
   ]
  },
  {
   "cell_type": "code",
   "execution_count": null,
   "id": "460efb1f",
   "metadata": {},
   "outputs": [],
   "source": [
    "# Transmission\n",
    "df['transmission'].value_counts().plot(kind='bar')\n",
    "plt.title('Distribution of Transmission')\n",
    "plt.xlabel('Transmission Type')\n",
    "plt.ylabel('Count')\n",
    "plt.show()"
   ]
  },
  {
   "cell_type": "code",
   "execution_count": null,
   "id": "4d8da5dc",
   "metadata": {},
   "outputs": [],
   "source": [
    "# Drive\n",
    "df['drive'].value_counts().plot(kind='bar')\n",
    "plt.title('Distribution of Drive')\n",
    "plt.xlabel('Drive Type')\n",
    "plt.ylabel('Count')\n",
    "plt.show()"
   ]
  },
  {
   "cell_type": "code",
   "execution_count": null,
   "id": "b1bd4d14",
   "metadata": {},
   "outputs": [],
   "source": [
    "# Type\n",
    "df['type'].value_counts().plot(kind='bar')\n",
    "plt.title('Distribution of Type')\n",
    "plt.xlabel('Vehicle Type')\n",
    "plt.ylabel('Count')\n",
    "plt.show()"
   ]
  },
  {
   "cell_type": "code",
   "execution_count": null,
   "id": "9861ea3e",
   "metadata": {},
   "outputs": [],
   "source": [
    "# Paint Color\n",
    "df['paint_color'].value_counts().plot(kind='bar')\n",
    "plt.title('Distribution of Paint Color')\n",
    "plt.xlabel('Paint Color')\n",
    "plt.ylabel('Count')\n",
    "plt.show()"
   ]
  },
  {
   "cell_type": "markdown",
   "id": "5d91b42a",
   "metadata": {},
   "source": [
    "# Data Cleaning"
   ]
  },
  {
   "cell_type": "code",
   "execution_count": null,
   "id": "69500a90",
   "metadata": {},
   "outputs": [],
   "source": [
    "import pandas as pd\n",
    "from text_preprocessing import clean_text\n",
    "\n",
    "# Load the training data into a Pandas DataFrame\n",
    "train_data = pd.read_csv('sample_vehicles.csv')\n",
    "\n",
    "\n",
    "text_cols = ['manufacturer', 'model', 'condition']\n",
    "# Apply the clean_text function to the 'model' column\n",
    "train_data['model_clean'] = train_data['model'].apply(lambda x: clean_text(x))\n",
    "\n",
    "# View the cleaned 'model' column\n",
    "print(train_data['model_clean'])\n"
   ]
  },
  {
   "cell_type": "markdown",
   "id": "62c61e7c",
   "metadata": {},
   "source": [
    "# Model Training"
   ]
  },
  {
   "cell_type": "code",
   "execution_count": null,
   "id": "5e3cecca",
   "metadata": {},
   "outputs": [],
   "source": [
    "# # Separate numerical and categorical features\n",
    "# numerical_features = [\n",
    "#     'year',\n",
    "#     'odometer'\n",
    "# ]\n",
    "# categorical_features = [\n",
    "#     'manufacturer',\n",
    "#     'model',\n",
    "#     'condition',\n",
    "#     'cylinders',\n",
    "#     'fuel',\n",
    "#     'transmission',\n",
    "#     'drive',\n",
    "#     'type',\n",
    "#     'paint_color'\n",
    "# ]\n",
    "\n"
   ]
  },
  {
   "cell_type": "code",
   "execution_count": null,
   "id": "12b63428",
   "metadata": {},
   "outputs": [],
   "source": [
    "import pandas as pd\n",
    "import numpy as np\n",
    "import tensorflow as tf\n",
    "from sklearn.preprocessing import StandardScaler\n",
    "\n",
    "# Load the data\n",
    "data = pd.read_csv('sample_vehicles.csv')\n",
    "\n",
    "# Split the data into features and target variable\n",
    "features = data.drop('price', axis=1)\n",
    "target = data['price']\n",
    "\n",
    "# Encode categorical features\n",
    "features_encoded = pd.get_dummies(features)\n",
    "\n",
    "# Split the data into training and testing sets\n",
    "from sklearn.model_selection import train_test_split\n",
    "X_train, X_test, y_train, y_test = train_test_split(features_encoded, target, test_size=0.3, random_state=42)\n",
    "\n",
    "# Normalize the data\n",
    "scaler = StandardScaler()\n",
    "X_train_scaled = scaler.fit_transform(X_train)\n",
    "X_test_scaled = scaler.transform(X_test)\n",
    "\n"
   ]
  },
  {
   "cell_type": "code",
   "execution_count": null,
   "id": "9cee8ce4",
   "metadata": {},
   "outputs": [],
   "source": []
  },
  {
   "cell_type": "markdown",
   "id": "b54f8edb",
   "metadata": {},
   "source": [
    "# Model Performance"
   ]
  },
  {
   "cell_type": "code",
   "execution_count": null,
   "id": "4d71b937",
   "metadata": {
    "scrolled": true
   },
   "outputs": [],
   "source": [
    "from sklearn.ensemble import RandomForestClassifier\n",
    "from sklearn.metrics import classification_report, accuracy_score\n",
    "from sklearn.metrics import precision_score, recall_score, f1_score\n",
    "\n",
    "# Instantiate the model\n",
    "rfc = RandomForestClassifier(n_estimators=100, random_state=42)\n",
    "\n",
    "# Train the model\n",
    "rfc.fit(X_train_scaled, y_train)\n",
    "\n",
    "# Make predictions on the test set\n",
    "y_pred = rfc.predict(X_test_scaled)\n",
    "\n",
    "# Evaluate the model\n",
    "print(classification_report(y_test, y_pred))"
   ]
  },
  {
   "cell_type": "code",
   "execution_count": null,
   "id": "90a476ba",
   "metadata": {},
   "outputs": [],
   "source": [
    "from sklearn.linear_model import LinearRegression\n",
    "from sklearn.metrics import mean_squared_error\n",
    "\n",
    "# Linear Regression\n",
    "lr = LinearRegression()\n",
    "lr.fit(X_train_scaled, y_train)\n",
    "lr_predictions = lr.predict(X_test_scaled)\n",
    "lr_mse = mean_squared_error(y_test, lr_predictions)\n",
    "print(lr_mse)"
   ]
  },
  {
   "cell_type": "code",
   "execution_count": null,
   "id": "c3ca7694",
   "metadata": {},
   "outputs": [],
   "source": [
    "print(X_train_scaled[:5])\n",
    "print(y_train)"
   ]
  },
  {
   "cell_type": "code",
   "execution_count": null,
   "id": "3ae5ff32",
   "metadata": {},
   "outputs": [],
   "source": [
    "from sklearn.metrics import classification_report, accuracy_score\n",
    "from sklearn.metrics import precision_score, recall_score, f1_score\n",
    "\n",
    "# Build the neural network\n",
    "model = tf.keras.Sequential([\n",
    "    tf.keras.layers.Dense(128, activation='relu', input_shape=[X_train_scaled.shape[1]]),\n",
    "    tf.keras.layers.Dense(64, activation='relu'),\n",
    "    tf.keras.layers.Dense(1)\n",
    "])\n",
    "\n",
    "# Compile the model\n",
    "model.compile(loss='mse', optimizer='adam')\n",
    "\n",
    "# Train the model\n",
    "model.fit(X_train_scaled, y_train, epochs=62, batch_size=32, validation_split=0.2)\n",
    "\n",
    "# Evaluate the performance of the model\n",
    "model.evaluate(X_test_scaled, y_test)\n",
    "\n",
    "# get predicted probabilities for each class\n",
    "y_pred_prob = model.predict(X_test_scaled)\n",
    "\n",
    "# get predicted class labels\n",
    "y_pred = np.argmax(y_pred_prob, axis=1)\n",
    "\n",
    "# calculate accuracy score\n",
    "accuracy = accuracy_score(y_test, y_pred)\n",
    "\n",
    "# generate classification report\n",
    "report = classification_report(y_test, y_pred, zero_division=1)\n",
    "\n",
    "precision = precision_score(y_test, y_pred, average='weighted', zero_division=1)\n",
    "recall = recall_score(y_test, y_pred, average='weighted', zero_division=1)\n",
    "f1 = f1_score(y_test, y_pred, average='weighted', zero_division=1)\n",
    "\n",
    "\n",
    "print(report)\n",
    "print(\"Precision:\", precision)\n",
    "print(\"Recall:\", recall)\n",
    "print(\"f1-score:\", f1)\n",
    "print(\"Accuracy:\", accuracy)"
   ]
  },
  {
   "cell_type": "code",
   "execution_count": null,
   "id": "cd9def6e",
   "metadata": {},
   "outputs": [],
   "source": []
  }
 ],
 "metadata": {
  "kernelspec": {
   "display_name": "Python 3 (ipykernel)",
   "language": "python",
   "name": "python3"
  },
  "language_info": {
   "codemirror_mode": {
    "name": "ipython",
    "version": 3
   },
   "file_extension": ".py",
   "mimetype": "text/x-python",
   "name": "python",
   "nbconvert_exporter": "python",
   "pygments_lexer": "ipython3",
   "version": "3.9.16"
  }
 },
 "nbformat": 4,
 "nbformat_minor": 5
}
