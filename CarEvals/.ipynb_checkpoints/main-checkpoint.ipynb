{
 "cells": [
  {
   "cell_type": "markdown",
   "id": "6034c491",
   "metadata": {},
   "source": [
    "# Data Exploration"
   ]
  },
  {
   "cell_type": "code",
   "execution_count": 21,
   "id": "2e3dad28",
   "metadata": {},
   "outputs": [],
   "source": [
    "# import pandas as pd\n",
    "\n",
    "# # Read data from CSV file\n",
    "# df = pd.read_csv('vehicles.csv')\n",
    "\n",
    "# # Get a sample of 10%\n",
    "# sample = df.sample(frac=0.1)"
   ]
  },
  {
   "cell_type": "code",
   "execution_count": 22,
   "id": "993505cd",
   "metadata": {},
   "outputs": [
    {
     "name": "stdout",
     "output_type": "stream",
     "text": [
      "Index(['id', 'url', 'region', 'region_url', 'price', 'year', 'manufacturer',\n",
      "       'model', 'condition', 'cylinders', 'fuel', 'odometer', 'title_status',\n",
      "       'transmission', 'VIN', 'drive', 'size', 'type', 'paint_color',\n",
      "       'image_url', 'description', 'county', 'state', 'lat', 'long',\n",
      "       'posting_date'],\n",
      "      dtype='object')\n"
     ]
    }
   ],
   "source": [
    "# print(sample.columns)"
   ]
  },
  {
   "cell_type": "code",
   "execution_count": 25,
   "id": "46c8ce50",
   "metadata": {},
   "outputs": [],
   "source": [
    "# # We only need to keep relevant columns, excluding data like urls, id, etc.\n",
    "\n",
    "# relevant_cols = ['price', 'year', 'manufacturer', 'model', 'condition', 'cylinders', \n",
    "#                  'fuel', 'odometer', 'transmission', 'drive', 'type', 'paint_color']\n",
    "# sample = sample[relevant_cols]\n",
    "\n",
    "# # Drop rows with missing data in relevant columns\n",
    "# sample.dropna(subset=['price', 'year', 'manufacturer', 'model', 'condition', 'cylinders', \n",
    "#                     'fuel', 'odometer', 'transmission', 'drive', 'type', 'paint_color'], \n",
    "#             inplace=True)"
   ]
  },
  {
   "cell_type": "code",
   "execution_count": 28,
   "id": "2ba521f8",
   "metadata": {},
   "outputs": [],
   "source": [
    "# # Write the resulting dataframe to a new CSV file\n",
    "# sample.to_csv('sample_vehicles.csv', index=False)"
   ]
  },
  {
   "cell_type": "markdown",
   "id": "62c61e7c",
   "metadata": {},
   "source": [
    "# Model Training"
   ]
  },
  {
   "cell_type": "code",
   "execution_count": 1,
   "id": "80bb3522",
   "metadata": {},
   "outputs": [],
   "source": [
    "import pandas as pd\n",
    "\n",
    "# Load data\n",
    "df = pd.read_csv('sample_vehicles.csv')"
   ]
  },
  {
   "cell_type": "code",
   "execution_count": 2,
   "id": "74a6d6b3",
   "metadata": {},
   "outputs": [],
   "source": [
    "import numpy as np\n",
    "from keras.models import Sequential\n",
    "from keras.layers import Dense\n",
    "from sklearn.preprocessing import StandardScaler, OneHotEncoder\n",
    "from sklearn.model_selection import train_test_split\n",
    "\n",
    "# Create feature matrix X and target vector y\n",
    "X = df.drop('price', axis=1)\n",
    "y = df['price']\n",
    "\n"
   ]
  },
  {
   "cell_type": "code",
   "execution_count": 4,
   "id": "f20806b8",
   "metadata": {},
   "outputs": [
    {
     "name": "stdout",
     "output_type": "stream",
     "text": [
      "0        18995\n",
      "1         9500\n",
      "2         1500\n",
      "3         7950\n",
      "4         7500\n",
      "         ...  \n",
      "11405    21988\n",
      "11406    16000\n",
      "11407     1000\n",
      "11408     2500\n",
      "11409    29990\n",
      "Name: price, Length: 11410, dtype: int64\n"
     ]
    }
   ],
   "source": [
    "print(y)"
   ]
  },
  {
   "cell_type": "code",
   "execution_count": 3,
   "id": "36f61d60",
   "metadata": {},
   "outputs": [],
   "source": [
    "# Standardize the numerical columns\n",
    "numerical_cols = ['year', 'odometer']\n",
    "scaler = StandardScaler()\n",
    "X[numerical_cols] = scaler.fit_transform(X[numerical_cols])\n",
    "\n",
    "# One-hot encode the categorical columns\n",
    "categorical_cols = ['manufacturer', 'model', 'condition', 'cylinders', 'fuel', 'transmission', 'drive', 'type', 'paint_color']\n",
    "encoder = OneHotEncoder(handle_unknown='ignore')\n",
    "X_encoded = encoder.fit_transform(X[categorical_cols])\n",
    "X_encoded_df = pd.DataFrame(X_encoded.toarray(), columns=encoder.get_feature_names_out(categorical_cols))\n",
    "\n",
    "\n",
    "\n",
    "# Concatenate the encoded categorical columns with the scaled numerical columns\n",
    "X = pd.concat([X_encoded_df, X[numerical_cols]], axis=1)\n",
    "\n",
    "\n",
    "\n"
   ]
  },
  {
   "cell_type": "code",
   "execution_count": 4,
   "id": "f783b1f7",
   "metadata": {},
   "outputs": [
    {
     "name": "stdout",
     "output_type": "stream",
     "text": [
      "       manufacturer_acura  manufacturer_alfa-romeo  manufacturer_aston-martin  \\\n",
      "0                     0.0                      0.0                        0.0   \n",
      "1                     0.0                      0.0                        0.0   \n",
      "2                     0.0                      0.0                        0.0   \n",
      "3                     0.0                      0.0                        0.0   \n",
      "4                     0.0                      0.0                        0.0   \n",
      "...                   ...                      ...                        ...   \n",
      "11405                 0.0                      0.0                        0.0   \n",
      "11406                 0.0                      0.0                        0.0   \n",
      "11407                 0.0                      0.0                        0.0   \n",
      "11408                 0.0                      0.0                        0.0   \n",
      "11409                 0.0                      0.0                        0.0   \n",
      "\n",
      "       manufacturer_audi  manufacturer_bmw  manufacturer_buick  \\\n",
      "0                    0.0               0.0                 0.0   \n",
      "1                    0.0               0.0                 0.0   \n",
      "2                    0.0               0.0                 0.0   \n",
      "3                    0.0               0.0                 0.0   \n",
      "4                    0.0               0.0                 0.0   \n",
      "...                  ...               ...                 ...   \n",
      "11405                0.0               0.0                 0.0   \n",
      "11406                0.0               0.0                 0.0   \n",
      "11407                0.0               0.0                 0.0   \n",
      "11408                0.0               0.0                 0.0   \n",
      "11409                1.0               0.0                 0.0   \n",
      "\n",
      "       manufacturer_cadillac  manufacturer_chevrolet  manufacturer_chrysler  \\\n",
      "0                        0.0                     0.0                    0.0   \n",
      "1                        0.0                     0.0                    0.0   \n",
      "2                        0.0                     0.0                    0.0   \n",
      "3                        0.0                     0.0                    0.0   \n",
      "4                        0.0                     0.0                    0.0   \n",
      "...                      ...                     ...                    ...   \n",
      "11405                    0.0                     1.0                    0.0   \n",
      "11406                    0.0                     0.0                    0.0   \n",
      "11407                    0.0                     0.0                    0.0   \n",
      "11408                    0.0                     0.0                    0.0   \n",
      "11409                    0.0                     0.0                    0.0   \n",
      "\n",
      "       manufacturer_datsun  ...  paint_color_green  paint_color_grey  \\\n",
      "0                      0.0  ...                0.0               0.0   \n",
      "1                      0.0  ...                1.0               0.0   \n",
      "2                      0.0  ...                1.0               0.0   \n",
      "3                      0.0  ...                0.0               0.0   \n",
      "4                      0.0  ...                0.0               0.0   \n",
      "...                    ...  ...                ...               ...   \n",
      "11405                  0.0  ...                0.0               0.0   \n",
      "11406                  0.0  ...                0.0               0.0   \n",
      "11407                  0.0  ...                0.0               0.0   \n",
      "11408                  0.0  ...                0.0               0.0   \n",
      "11409                  0.0  ...                0.0               0.0   \n",
      "\n",
      "       paint_color_orange  paint_color_purple  paint_color_red  \\\n",
      "0                     0.0                 0.0              0.0   \n",
      "1                     0.0                 0.0              0.0   \n",
      "2                     0.0                 0.0              0.0   \n",
      "3                     0.0                 0.0              0.0   \n",
      "4                     0.0                 0.0              0.0   \n",
      "...                   ...                 ...              ...   \n",
      "11405                 0.0                 0.0              0.0   \n",
      "11406                 0.0                 0.0              0.0   \n",
      "11407                 0.0                 0.0              0.0   \n",
      "11408                 0.0                 0.0              0.0   \n",
      "11409                 0.0                 0.0              0.0   \n",
      "\n",
      "       paint_color_silver  paint_color_white  paint_color_yellow      year  \\\n",
      "0                     0.0                1.0                 0.0  0.466304   \n",
      "1                     0.0                0.0                 0.0  0.466304   \n",
      "2                     0.0                0.0                 0.0 -1.047818   \n",
      "3                     0.0                0.0                 0.0  0.466304   \n",
      "4                     0.0                0.0                 0.0  0.062538   \n",
      "...                   ...                ...                 ...       ...   \n",
      "11405                 0.0                1.0                 0.0  0.365362   \n",
      "11406                 0.0                0.0                 0.0  0.365362   \n",
      "11407                 1.0                0.0                 0.0  0.163479   \n",
      "11408                 1.0                0.0                 0.0 -0.744994   \n",
      "11409                 0.0                1.0                 0.0  0.870069   \n",
      "\n",
      "       odometer  \n",
      "0     -0.006317  \n",
      "1      0.292378  \n",
      "2      0.324742  \n",
      "3      0.000382  \n",
      "4      0.135092  \n",
      "...         ...  \n",
      "11405  0.352451  \n",
      "11406 -0.118418  \n",
      "11407  0.391346  \n",
      "11408  0.431535  \n",
      "11409 -0.577306  \n",
      "\n",
      "[11410 rows x 3367 columns]\n"
     ]
    }
   ],
   "source": [
    "print(X)"
   ]
  },
  {
   "cell_type": "code",
   "execution_count": null,
   "id": "66bc9d96",
   "metadata": {},
   "outputs": [],
   "source": [
    "# Split the data into training and test sets\n",
    "X_train, X_test, y_train, y_test = train_test_split(X, y, test_size=0.3, random_state=42)\n",
    "\n",
    "# Build the model\n",
    "model = Sequential()\n",
    "model.add(Dense(64, input_dim=X_train.shape[1], activation='relu'))\n",
    "model.add(Dense(32, activation='relu'))\n",
    "model.add(Dense(16, activation='relu'))\n",
    "model.add(Dense(1, activation='linear'))\n",
    "\n",
    "# Compile the model\n",
    "model.compile(loss='mean_squared_error', optimizer='adam')\n",
    "\n",
    "# Fit the model\n",
    "model.fit(X_train, y_train, epochs=100, batch_size=32, verbose=1)\n",
    "\n",
    "# Evaluate the model\n",
    "mse = model.evaluate(X_test, y_test, verbose=0)\n",
    "print('Mean squared error: {:.2f}'.format(mse))"
   ]
  },
  {
   "cell_type": "code",
   "execution_count": null,
   "id": "744a7f36",
   "metadata": {},
   "outputs": [],
   "source": []
  }
 ],
 "metadata": {
  "kernelspec": {
   "display_name": "Python 3 (ipykernel)",
   "language": "python",
   "name": "python3"
  },
  "language_info": {
   "codemirror_mode": {
    "name": "ipython",
    "version": 3
   },
   "file_extension": ".py",
   "mimetype": "text/x-python",
   "name": "python",
   "nbconvert_exporter": "python",
   "pygments_lexer": "ipython3",
   "version": "3.9.16"
  }
 },
 "nbformat": 4,
 "nbformat_minor": 5
}
