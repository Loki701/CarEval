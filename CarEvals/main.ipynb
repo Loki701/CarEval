{
 "cells": [
  {
   "cell_type": "markdown",
   "id": "6034c491",
   "metadata": {},
   "source": [
    "# Data overview and sampling"
   ]
  },
  {
   "cell_type": "code",
   "execution_count": null,
   "id": "2e3dad28",
   "metadata": {},
   "outputs": [],
   "source": [
    "import pandas as pd\n",
    "\n",
    "# Read data from CSV file\n",
    "df = pd.read_csv('data/vehicles.csv')\n",
    "\n",
    "# Get a sample of 10%\n",
    "sample = df.sample(frac=0.05)"
   ]
  },
  {
   "cell_type": "markdown",
   "id": "d732930a",
   "metadata": {},
   "source": [
    "## Keep relevant column; replace Na with 'missing'"
   ]
  },
  {
   "cell_type": "code",
   "execution_count": null,
   "id": "46c8ce50",
   "metadata": {},
   "outputs": [],
   "source": [
    "relevant_cols = ['price', 'year', 'manufacturer', 'model', 'condition', 'cylinders', \n",
    "                 'fuel', 'odometer', 'transmission', 'drive', 'type', 'paint_color']\n",
    "sample = sample[relevant_cols]\n",
    "df = df[relevant_cols]\n",
    "\n",
    "# # Drop rows with missing data in relevant columns\n",
    "# sample.dropna(subset=['price', 'year', 'manufacturer', 'model', 'condition', 'cylinders', \n",
    "#                     'fuel', 'odometer', 'transmission', 'drive', 'type', 'paint_color'], \n",
    "#             inplace=True)\n",
    "\n",
    "\n",
    "sample = sample.fillna('missing')\n",
    "# df = df.fillna('missing')"
   ]
  },
  {
   "cell_type": "markdown",
   "id": "99b18269",
   "metadata": {},
   "source": [
    "## Save a copy"
   ]
  },
  {
   "cell_type": "code",
   "execution_count": null,
   "id": "2ba521f8",
   "metadata": {},
   "outputs": [],
   "source": [
    "# Write the resulting dataframe to a new CSV file\n",
    "\n",
    "sample.to_csv('m_5p_vehicles.csv', index=False)\n",
    "# df.to_csv('relcols_full_vehicles.csv', index=False)"
   ]
  },
  {
   "cell_type": "markdown",
   "id": "5a31e10d",
   "metadata": {},
   "source": [
    "# Exploratory Data Analysis"
   ]
  },
  {
   "cell_type": "code",
   "execution_count": null,
   "id": "84a59c16",
   "metadata": {},
   "outputs": [],
   "source": [
    "import pandas as pd\n",
    "import seaborn as sns\n",
    "import matplotlib.pyplot as plt\n",
    "\n",
    "# Load the data\n",
    "df = pd.read_csv('m_sample_vehicles.csv')\n",
    "# df = pd.read_csv('relcols_full_vehicles.csv')"
   ]
  },
  {
   "cell_type": "markdown",
   "id": "4288f634",
   "metadata": {},
   "source": [
    "## Observing outliers"
   ]
  },
  {
   "cell_type": "code",
   "execution_count": null,
   "id": "2893a136",
   "metadata": {
    "scrolled": true
   },
   "outputs": [],
   "source": [
    "import seaborn as sns\n",
    "import matplotlib.pyplot as plt\n",
    "\n",
    "# Price\n",
    "\n",
    "# Observe top prices\n",
    "top_prices = df['price'].sort_values(ascending=False).head(10)\n",
    "print(top_prices)\n",
    "\n",
    "# Create a density plot\n",
    "sns.kdeplot(df['price'])\n",
    "plt.title('Density distribution of car prices')\n",
    "plt.xlabel('Price')\n",
    "plt.ylabel('Density')\n",
    "plt.show()\n",
    "\n",
    "# Create a box plot with modified whiskers\n",
    "plt.boxplot(df['price'], whis=[0, 99], showfliers=False)\n",
    "plt.show()\n"
   ]
  },
  {
   "cell_type": "code",
   "execution_count": null,
   "id": "8d329b84",
   "metadata": {
    "scrolled": true
   },
   "outputs": [],
   "source": [
    "# Year\n",
    "df['year'].dtype\n",
    "df['year'] = pd.to_numeric(df['year'], errors='coerce')\n",
    "sns.kdeplot(df['year'], fill=True)"
   ]
  },
  {
   "cell_type": "code",
   "execution_count": null,
   "id": "45f63b1a",
   "metadata": {
    "scrolled": true
   },
   "outputs": [],
   "source": [
    "# Manufacturer\n",
    "counts = df['manufacturer'].value_counts()\n",
    "plt.bar(counts.index, counts.values)\n",
    "plt.xticks(rotation=90)\n",
    "plt.show()"
   ]
  },
  {
   "cell_type": "code",
   "execution_count": null,
   "id": "fad62c14",
   "metadata": {
    "scrolled": true
   },
   "outputs": [],
   "source": [
    "# Model\n",
    "plt.figure(figsize=(12,8))\n",
    "sns.countplot(x='model', data=df, order=df['model'].value_counts().iloc[:30].index)\n",
    "plt.title('Distribution of Car Models')\n",
    "plt.xlabel('Car Model')\n",
    "plt.ylabel('Count')\n",
    "plt.xticks(rotation=45, ha='right')\n",
    "plt.show()"
   ]
  },
  {
   "cell_type": "code",
   "execution_count": null,
   "id": "82e2b13d",
   "metadata": {
    "scrolled": true
   },
   "outputs": [],
   "source": [
    "# Condition\n",
    "sns.countplot(x='condition', data=df)"
   ]
  },
  {
   "cell_type": "code",
   "execution_count": null,
   "id": "fae6ca5f",
   "metadata": {
    "scrolled": true
   },
   "outputs": [],
   "source": [
    "# Cylinders\n",
    "sns.countplot(x='cylinders', data=df)"
   ]
  },
  {
   "cell_type": "code",
   "execution_count": null,
   "id": "8b77a6e2",
   "metadata": {
    "scrolled": true
   },
   "outputs": [],
   "source": [
    "# Fuel\n",
    "df['fuel'].value_counts().plot(kind='bar')\n",
    "plt.title('Distribution of Fuel')\n",
    "plt.xlabel('Fuel Type')\n",
    "plt.ylabel('Count')\n",
    "plt.show()\n"
   ]
  },
  {
   "cell_type": "code",
   "execution_count": null,
   "id": "f3f856f0",
   "metadata": {
    "scrolled": true
   },
   "outputs": [],
   "source": [
    "# Odometer\n",
    "df['odometer'] = pd.to_numeric(df['odometer'], errors='coerce')\n",
    "sns.set_style('whitegrid')\n",
    "sns.kdeplot(df[df['odometer'].notnull()]['odometer'], fill=True)\n",
    "plt.title('Odometer Distribution')\n",
    "plt.xlabel('Odometer')\n",
    "plt.ylabel('Density')\n",
    "plt.show()"
   ]
  },
  {
   "cell_type": "code",
   "execution_count": null,
   "id": "5ee71891",
   "metadata": {
    "scrolled": true
   },
   "outputs": [],
   "source": [
    "# Transmission\n",
    "df['transmission'].value_counts().plot(kind='bar')\n",
    "plt.title('Distribution of Transmission')\n",
    "plt.xlabel('Transmission Type')\n",
    "plt.ylabel('Count')\n",
    "plt.show()"
   ]
  },
  {
   "cell_type": "code",
   "execution_count": null,
   "id": "df5cc364",
   "metadata": {
    "scrolled": true
   },
   "outputs": [],
   "source": [
    "# Drive\n",
    "df['drive'].value_counts().plot(kind='bar')\n",
    "plt.title('Distribution of Drive')\n",
    "plt.xlabel('Drive Type')\n",
    "plt.ylabel('Count')\n",
    "plt.show()"
   ]
  },
  {
   "cell_type": "code",
   "execution_count": null,
   "id": "b736edba",
   "metadata": {
    "scrolled": true
   },
   "outputs": [],
   "source": [
    "# Type\n",
    "df['type'].value_counts().plot(kind='bar')\n",
    "plt.title('Distribution of Type')\n",
    "plt.xlabel('Vehicle Type')\n",
    "plt.ylabel('Count')\n",
    "plt.show()"
   ]
  },
  {
   "cell_type": "code",
   "execution_count": null,
   "id": "d082d887",
   "metadata": {
    "scrolled": true
   },
   "outputs": [],
   "source": [
    "# Paint Color\n",
    "df['paint_color'].value_counts().plot(kind='bar')\n",
    "plt.title('Distribution of Paint Color')\n",
    "plt.xlabel('Paint Color')\n",
    "plt.ylabel('Count')\n",
    "plt.show()"
   ]
  },
  {
   "cell_type": "code",
   "execution_count": null,
   "id": "97402cc6",
   "metadata": {},
   "outputs": [],
   "source": [
    "# save new data types\n"
   ]
  },
  {
   "cell_type": "markdown",
   "id": "0eff083e",
   "metadata": {},
   "source": [
    "# Data Cleaning"
   ]
  },
  {
   "cell_type": "code",
   "execution_count": null,
   "id": "94c366fe",
   "metadata": {},
   "outputs": [],
   "source": [
    "# Removing price outliers\n",
    "\n",
    "# calculate the 99th percentile value of 'price' column\n",
    "price_99percentile = df['price'].quantile(0.99)\n",
    "\n",
    "# filter the dataframe to keep only the rows where price is less than or equal to price_99percentile\n",
    "df = df[df['price'] <= price_99percentile]\n",
    "\n",
    "# Create a density plot\n",
    "sns.kdeplot(df['price'])\n",
    "plt.title('Density distribution of car prices')\n",
    "plt.xlabel('Price')\n",
    "plt.ylabel('Density')\n",
    "plt.show()"
   ]
  },
  {
   "cell_type": "code",
   "execution_count": null,
   "id": "a076530a",
   "metadata": {},
   "outputs": [],
   "source": [
    "# Year\n",
    "# Find the 1st percentile value of odometer\n",
    "year_1st_percentile = df['year'].quantile(0.01)\n",
    "\n",
    "# Drop the rows with odometer values greater than the 1st percentile value\n",
    "df = df[df['year'] > year_1st_percentile]\n",
    "\n",
    "\n",
    "sns.kdeplot(df['year'], fill=True)"
   ]
  },
  {
   "cell_type": "code",
   "execution_count": null,
   "id": "907fbcf6",
   "metadata": {},
   "outputs": [],
   "source": [
    "# Remove manufacturers with count below 500\n",
    "df = df.groupby('manufacturer').filter(lambda x: len(x) >= 500)\n",
    "\n",
    "counts = df['manufacturer'].value_counts()\n",
    "plt.bar(counts.index, counts.values)\n",
    "plt.xticks(rotation=90)\n",
    "plt.show()"
   ]
  },
  {
   "cell_type": "code",
   "execution_count": null,
   "id": "da0d7987",
   "metadata": {},
   "outputs": [],
   "source": [
    "# Model\n",
    "plt.figure(figsize=(12,8))\n",
    "sns.countplot(x='model', data=df, order=df['model'].value_counts().iloc[:30].index)\n",
    "plt.title('Distribution of Car Models')\n",
    "plt.xlabel('Car Model')\n",
    "plt.ylabel('Count')\n",
    "plt.xticks(rotation=45, ha='right')\n",
    "plt.show()"
   ]
  },
  {
   "cell_type": "code",
   "execution_count": null,
   "id": "4d3928ad",
   "metadata": {},
   "outputs": [],
   "source": [
    "# Condition\n",
    "df = df[df['condition'] != 'missing']\n",
    "df = df[df['condition'] != 'new']\n",
    "df = df[df['condition'] != 'salvage']\n",
    "sns.countplot(x='condition', data=df)"
   ]
  },
  {
   "cell_type": "code",
   "execution_count": null,
   "id": "974af1f4",
   "metadata": {},
   "outputs": [],
   "source": [
    "# Cylinders\n",
    "df = df[df['cylinders'] != 'missing']\n",
    "df = df[df['cylinders'] != 'other']\n",
    "\n",
    "# Convert cylinders to integer\n",
    "df['cylinders'] = df['cylinders'].str.split(' ', expand=True)[0].astype(int)\n",
    "\n",
    "# Count the number of occurrences for each cylinder count\n",
    "cyl_counts = df['cylinders'].value_counts()\n",
    "\n",
    "# Get the cylinder counts with at least 1000 occurrences\n",
    "valid_cyl_counts = cyl_counts[cyl_counts >= 1000].index\n",
    "\n",
    "# Keep only rows with valid cylinder counts\n",
    "df = df[df['cylinders'].isin(valid_cyl_counts)]\n",
    "\n",
    "\n",
    "sns.countplot(x='cylinders', data=df)"
   ]
  },
  {
   "cell_type": "code",
   "execution_count": null,
   "id": "ee3ef1b4",
   "metadata": {},
   "outputs": [],
   "source": []
  },
  {
   "cell_type": "code",
   "execution_count": null,
   "id": "afc5fdaa",
   "metadata": {},
   "outputs": [],
   "source": [
    "# Fuel\n",
    "df = df[df['fuel'] == 'gas']\n",
    "df['fuel'].value_counts().plot(kind='bar')\n",
    "plt.title('Distribution of Fuel')\n",
    "plt.xlabel('Fuel Type')\n",
    "plt.ylabel('Count')\n",
    "plt.show()"
   ]
  },
  {
   "cell_type": "code",
   "execution_count": null,
   "id": "62b14cd9",
   "metadata": {
    "scrolled": false
   },
   "outputs": [],
   "source": [
    "from scipy import stats\n",
    "\n",
    "odometer_percentile = df['odometer'].quantile(0.99)\n",
    "df = df[df['odometer'] <= odometer_percentile]\n",
    "\n",
    "# Observe top prices\n",
    "top_prices = df['odometer'].sort_values(ascending=False).head(10)\n",
    "print(top_prices)\n",
    "\n",
    "# Odometer\n",
    "sns.set_style('whitegrid')\n",
    "sns.kdeplot(df[df['odometer'].notnull()]['odometer'], fill=True)\n",
    "plt.title('Odometer Distribution')\n",
    "plt.xlabel('Odometer')\n",
    "plt.ylabel('Density')\n",
    "plt.show()\n"
   ]
  },
  {
   "cell_type": "code",
   "execution_count": null,
   "id": "8a4b5639",
   "metadata": {},
   "outputs": [],
   "source": [
    "# Transmission\n",
    "df = df[df['transmission'] == 'automatic']\n",
    "df['transmission'].value_counts().plot(kind='bar')\n",
    "plt.title('Distribution of Transmission')\n",
    "plt.xlabel('Transmission Type')\n",
    "plt.ylabel('Count')\n",
    "plt.show()"
   ]
  },
  {
   "cell_type": "code",
   "execution_count": null,
   "id": "903751c1",
   "metadata": {},
   "outputs": [],
   "source": [
    "# Drive\n",
    "df['drive'].value_counts().plot(kind='bar')\n",
    "plt.title('Distribution of Drive')\n",
    "plt.xlabel('Drive Type')\n",
    "plt.ylabel('Count')\n",
    "plt.show()"
   ]
  },
  {
   "cell_type": "code",
   "execution_count": null,
   "id": "d6b548a5",
   "metadata": {},
   "outputs": [],
   "source": [
    "# Type\n",
    "df = df[df['type'] != 'missing']\n",
    "\n",
    "# Get the value counts for the 'type' column\n",
    "type_counts = df['type'].value_counts()\n",
    "\n",
    "# Get the types that appear less than 400 times\n",
    "low_count_types = type_counts[type_counts < 400].index\n",
    "\n",
    "# Keep only the rows where 'type' is not in the low_count_types list\n",
    "df = df[~df['type'].isin(low_count_types)]\n",
    "\n",
    "df['type'].value_counts().plot(kind='bar')\n",
    "plt.title('Distribution of Type')\n",
    "plt.xlabel('Vehicle Type')\n",
    "plt.ylabel('Count')\n",
    "plt.show()"
   ]
  },
  {
   "cell_type": "code",
   "execution_count": null,
   "id": "8c8e521b",
   "metadata": {},
   "outputs": [],
   "source": [
    "# Paint Color\n",
    "# Get the count of each paint color\n",
    "paint_color_counts = df['paint_color'].value_counts()\n",
    "\n",
    "# Get a list of paint colors with count below 500\n",
    "other_paint_colors = paint_color_counts[paint_color_counts < 500].index.tolist()\n",
    "\n",
    "# Replace those paint colors with 'Other'\n",
    "df['paint_color'] = df['paint_color'].replace(other_paint_colors, 'Other')\n",
    "\n",
    "df['paint_color'].value_counts().plot(kind='bar')\n",
    "plt.title('Distribution of Paint Color')\n",
    "plt.xlabel('Paint Color')\n",
    "plt.ylabel('Count')\n",
    "plt.show()"
   ]
  },
  {
   "cell_type": "markdown",
   "id": "62c61e7c",
   "metadata": {},
   "source": [
    "# Model Training"
   ]
  },
  {
   "cell_type": "code",
   "execution_count": null,
   "id": "d5d3a3c1",
   "metadata": {},
   "outputs": [],
   "source": [
    "import pandas as pd\n",
    "import numpy as np\n",
    "from sklearn.model_selection import train_test_split\n",
    "import tensorflow as tf\n",
    "from sklearn.preprocessing import StandardScaler\n",
    "from sklearn.impute import SimpleImputer\n",
    "\n",
    "# Load the data\n",
    "# data = pd.read_csv('sample_vehicles.csv')\n",
    "data = df\n",
    "\n",
    "# Split the data into features and target variable\n",
    "features = data.drop('price', axis=1)\n",
    "target = data['price']\n",
    "\n",
    "# Encode categorical features\n",
    "features_encoded = pd.get_dummies(features)\n",
    "\n",
    "# Split the data into training and testing sets\n",
    "X_train, X_test, y_train, y_test = train_test_split(features_encoded, target, test_size=0.3, random_state=42)\n",
    "\n",
    "# Normalize the data\n",
    "scaler = StandardScaler()\n",
    "X_train_scaled = scaler.fit_transform(X_train)\n",
    "X_test_scaled = scaler.fit_transform(X_test)\n",
    "\n",
    "# # Replace NaN with median\n",
    "imputer = SimpleImputer(strategy='median')\n",
    "X_train_imputed = imputer.fit_transform(X_train_scaled)\n",
    "X_test_imputed = imputer.fit_transform(X_test_scaled)\n"
   ]
  },
  {
   "cell_type": "markdown",
   "id": "29f117ed",
   "metadata": {},
   "source": [
    "# Model Performance"
   ]
  },
  {
   "cell_type": "markdown",
   "id": "7c91056b",
   "metadata": {},
   "source": [
    "## Random Forest"
   ]
  },
  {
   "cell_type": "code",
   "execution_count": null,
   "id": "768641e6",
   "metadata": {
    "scrolled": true
   },
   "outputs": [],
   "source": [
    "from sklearn.ensemble import RandomForestClassifier\n",
    "from sklearn.metrics import classification_report, accuracy_score\n",
    "from sklearn.metrics import precision_score, recall_score, f1_score\n",
    "\n",
    "# Instantiate the model\n",
    "rfc = RandomForestClassifier(n_estimators=100, random_state=42)\n",
    "\n",
    "# Train the model\n",
    "rfc.fit(X_train_imputed, y_train)\n",
    "\n",
    "# Make predictions on the test set\n",
    "y_pred = rfc.predict(X_test_imputed)\n",
    "\n",
    "# Evaluate the model\n",
    "print(classification_report(y_test, y_pred))"
   ]
  },
  {
   "cell_type": "markdown",
   "id": "71b06d0f",
   "metadata": {},
   "source": [
    "## Linear Regression"
   ]
  },
  {
   "cell_type": "code",
   "execution_count": null,
   "id": "9f88578c",
   "metadata": {},
   "outputs": [],
   "source": [
    "from sklearn.linear_model import LinearRegression\n",
    "from sklearn.metrics import mean_squared_error\n",
    "\n",
    "def rmsle(y_true, y_pred):\n",
    "    assert len(y_true) == len(y_pred)\n",
    "    log_diff = np.log1p(y_true) - np.log1p(y_pred)\n",
    "    log_diff[~np.isfinite(log_diff)] = 0\n",
    "    return np.sqrt(np.mean(log_diff**2))\n",
    "\n",
    "# Linear Regression\n",
    "lr = LinearRegression()\n",
    "lr.fit(X_train_imputed, y_train)\n",
    "lr_predictions = lr.predict(X_test_imputed)\n",
    "lr_mse = mean_squared_error(y_test, lr_predictions)\n",
    "lr_rmsle = rmsle(y_test, lr_predictions)\n",
    "print(lr_mse)\n",
    "print(lr_rmsle)"
   ]
  },
  {
   "cell_type": "markdown",
   "id": "ae0a1fd9",
   "metadata": {},
   "source": [
    "## Feed forward neural network"
   ]
  },
  {
   "cell_type": "code",
   "execution_count": null,
   "id": "57dccc49",
   "metadata": {},
   "outputs": [],
   "source": [
    "# from sklearn.metrics import classification_report, accuracy_score\n",
    "# from sklearn.metrics import precision_score, recall_score, f1_score\n",
    "\n",
    "# # Build the neural network\n",
    "# model = tf.keras.Sequential([\n",
    "#     tf.keras.layers.Dense(128, activation='relu', input_shape=[X_train_scaled.shape[1]]),\n",
    "#     tf.keras.layers.Dense(64, activation='relu'),\n",
    "#     tf.keras.layers.Dense(1)\n",
    "# ])\n",
    "\n",
    "# # Compile the model\n",
    "# model.compile(loss='mse', optimizer='adam')\n",
    "\n",
    "# # Train the model\n",
    "# model.fit(X_train_scaled, y_train, epochs=50, batch_size=32, validation_split=0.2)\n",
    "\n",
    "# # Evaluate the performance of the model\n",
    "# model.evaluate(X_test_scaled, y_test)\n",
    "\n",
    "# # get predicted probabilities for each class\n",
    "# y_pred_prob = model.predict(X_test_scaled)\n",
    "\n",
    "# # get predicted class labels\n",
    "# y_pred = np.argmax(y_pred_prob, axis=1)\n",
    "\n",
    "# # calculate accuracy score\n",
    "# accuracy = accuracy_score(y_test, y_pred)\n",
    "\n",
    "# # generate classification report\n",
    "# report = classification_report(y_test, y_pred, zero_division=1)\n",
    "\n",
    "# precision = precision_score(y_test, y_pred, average='weighted', zero_division=1)\n",
    "# recall = recall_score(y_test, y_pred, average='weighted', zero_division=1)\n",
    "# f1 = f1_score(y_test, y_pred, average='weighted', zero_division=1)\n",
    "\n",
    "\n",
    "# print(report)\n",
    "# print(\"Precision:\", precision)\n",
    "# print(\"Recall:\", recall)\n",
    "# print(\"f1-score:\", f1)\n",
    "# print(\"Accuracy:\", accuracy)"
   ]
  },
  {
   "cell_type": "code",
   "execution_count": null,
   "id": "550927c7",
   "metadata": {},
   "outputs": [],
   "source": []
  }
 ],
 "metadata": {
  "kernelspec": {
   "display_name": "Python 3 (ipykernel)",
   "language": "python",
   "name": "python3"
  },
  "language_info": {
   "codemirror_mode": {
    "name": "ipython",
    "version": 3
   },
   "file_extension": ".py",
   "mimetype": "text/x-python",
   "name": "python",
   "nbconvert_exporter": "python",
   "pygments_lexer": "ipython3",
   "version": "3.9.16"
  }
 },
 "nbformat": 4,
 "nbformat_minor": 5
}
